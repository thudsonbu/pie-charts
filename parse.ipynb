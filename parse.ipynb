{
 "cells": [
  {
   "cell_type": "code",
   "execution_count": 21,
   "metadata": {},
   "outputs": [
    {
     "data": {
      "text/html": [
       "<div>\n",
       "<style scoped>\n",
       "    .dataframe tbody tr th:only-of-type {\n",
       "        vertical-align: middle;\n",
       "    }\n",
       "\n",
       "    .dataframe tbody tr th {\n",
       "        vertical-align: top;\n",
       "    }\n",
       "\n",
       "    .dataframe thead th {\n",
       "        text-align: right;\n",
       "    }\n",
       "</style>\n",
       "<table border=\"1\" class=\"dataframe\">\n",
       "  <thead>\n",
       "    <tr style=\"text-align: right;\">\n",
       "      <th></th>\n",
       "      <th>Rank</th>\n",
       "      <th>Name</th>\n",
       "      <th>City</th>\n",
       "      <th>State</th>\n",
       "      <th>Public/Private</th>\n",
       "      <th>Undergraduate Population</th>\n",
       "      <th>Student Population</th>\n",
       "      <th>Net Price</th>\n",
       "      <th>Average Grant Aid</th>\n",
       "      <th>Total Annual Cost</th>\n",
       "      <th>Alumni Salary</th>\n",
       "      <th>Acceptance Rate</th>\n",
       "      <th>SAT Lower</th>\n",
       "      <th>SAT Upper</th>\n",
       "      <th>ACT Lower</th>\n",
       "      <th>ACT Upper</th>\n",
       "      <th>Website</th>\n",
       "    </tr>\n",
       "  </thead>\n",
       "  <tbody>\n",
       "    <tr>\n",
       "      <th>0</th>\n",
       "      <td>1.0</td>\n",
       "      <td>Harvard University</td>\n",
       "      <td>Cambridge</td>\n",
       "      <td>MA</td>\n",
       "      <td>Private</td>\n",
       "      <td>13844.0</td>\n",
       "      <td>31120.0</td>\n",
       "      <td>14327.0</td>\n",
       "      <td>49870.0</td>\n",
       "      <td>69600.0</td>\n",
       "      <td>146800.0</td>\n",
       "      <td>5.0</td>\n",
       "      <td>1460.0</td>\n",
       "      <td>1590.0</td>\n",
       "      <td>32.0</td>\n",
       "      <td>35.0</td>\n",
       "      <td>www.harvard.edu</td>\n",
       "    </tr>\n",
       "    <tr>\n",
       "      <th>1</th>\n",
       "      <td>2.0</td>\n",
       "      <td>Stanford University</td>\n",
       "      <td>Stanford</td>\n",
       "      <td>CA</td>\n",
       "      <td>Private</td>\n",
       "      <td>8402.0</td>\n",
       "      <td>17534.0</td>\n",
       "      <td>13261.0</td>\n",
       "      <td>50134.0</td>\n",
       "      <td>69109.0</td>\n",
       "      <td>145200.0</td>\n",
       "      <td>5.0</td>\n",
       "      <td>1390.0</td>\n",
       "      <td>1540.0</td>\n",
       "      <td>32.0</td>\n",
       "      <td>35.0</td>\n",
       "      <td>www.stanford.edu</td>\n",
       "    </tr>\n",
       "    <tr>\n",
       "      <th>2</th>\n",
       "      <td>3.0</td>\n",
       "      <td>Yale University</td>\n",
       "      <td>New Haven</td>\n",
       "      <td>CT</td>\n",
       "      <td>Private</td>\n",
       "      <td>6483.0</td>\n",
       "      <td>12974.0</td>\n",
       "      <td>18627.0</td>\n",
       "      <td>50897.0</td>\n",
       "      <td>71290.0</td>\n",
       "      <td>138300.0</td>\n",
       "      <td>7.0</td>\n",
       "      <td>1460.0</td>\n",
       "      <td>1580.0</td>\n",
       "      <td>32.0</td>\n",
       "      <td>35.0</td>\n",
       "      <td>www.yale.edu</td>\n",
       "    </tr>\n",
       "    <tr>\n",
       "      <th>3</th>\n",
       "      <td>4.0</td>\n",
       "      <td>Massachusetts Institute of Technology</td>\n",
       "      <td>Cambridge</td>\n",
       "      <td>MA</td>\n",
       "      <td>Private</td>\n",
       "      <td>4680.0</td>\n",
       "      <td>11466.0</td>\n",
       "      <td>20771.0</td>\n",
       "      <td>43248.0</td>\n",
       "      <td>67430.0</td>\n",
       "      <td>155200.0</td>\n",
       "      <td>7.0</td>\n",
       "      <td>1490.0</td>\n",
       "      <td>1570.0</td>\n",
       "      <td>33.0</td>\n",
       "      <td>35.0</td>\n",
       "      <td>web.mit.edu</td>\n",
       "    </tr>\n",
       "    <tr>\n",
       "      <th>4</th>\n",
       "      <td>5.0</td>\n",
       "      <td>Princeton University</td>\n",
       "      <td>Princeton</td>\n",
       "      <td>NJ</td>\n",
       "      <td>Private</td>\n",
       "      <td>5659.0</td>\n",
       "      <td>8273.0</td>\n",
       "      <td>9327.0</td>\n",
       "      <td>48088.0</td>\n",
       "      <td>66150.0</td>\n",
       "      <td>139400.0</td>\n",
       "      <td>6.0</td>\n",
       "      <td>1430.0</td>\n",
       "      <td>1570.0</td>\n",
       "      <td>31.0</td>\n",
       "      <td>35.0</td>\n",
       "      <td>www.princeton.edu</td>\n",
       "    </tr>\n",
       "  </tbody>\n",
       "</table>\n",
       "</div>"
      ],
      "text/plain": [
       "   Rank                                   Name       City State  \\\n",
       "0   1.0                     Harvard University  Cambridge    MA   \n",
       "1   2.0                    Stanford University   Stanford    CA   \n",
       "2   3.0                        Yale University  New Haven    CT   \n",
       "3   4.0  Massachusetts Institute of Technology  Cambridge    MA   \n",
       "4   5.0                   Princeton University  Princeton    NJ   \n",
       "\n",
       "  Public/Private  Undergraduate Population  Student Population  Net Price  \\\n",
       "0        Private                   13844.0             31120.0    14327.0   \n",
       "1        Private                    8402.0             17534.0    13261.0   \n",
       "2        Private                    6483.0             12974.0    18627.0   \n",
       "3        Private                    4680.0             11466.0    20771.0   \n",
       "4        Private                    5659.0              8273.0     9327.0   \n",
       "\n",
       "   Average Grant Aid  Total Annual Cost  Alumni Salary  Acceptance Rate  \\\n",
       "0            49870.0            69600.0       146800.0              5.0   \n",
       "1            50134.0            69109.0       145200.0              5.0   \n",
       "2            50897.0            71290.0       138300.0              7.0   \n",
       "3            43248.0            67430.0       155200.0              7.0   \n",
       "4            48088.0            66150.0       139400.0              6.0   \n",
       "\n",
       "   SAT Lower  SAT Upper  ACT Lower  ACT Upper            Website  \n",
       "0     1460.0     1590.0       32.0       35.0    www.harvard.edu  \n",
       "1     1390.0     1540.0       32.0       35.0   www.stanford.edu  \n",
       "2     1460.0     1580.0       32.0       35.0       www.yale.edu  \n",
       "3     1490.0     1570.0       33.0       35.0        web.mit.edu  \n",
       "4     1430.0     1570.0       31.0       35.0  www.princeton.edu  "
      ]
     },
     "execution_count": 21,
     "metadata": {},
     "output_type": "execute_result"
    }
   ],
   "source": [
    "# Import forbes data\n",
    "\n",
    "import pandas as pd\n",
    "\n",
    "# create pandas dataframe (https://pandas.pydata.org/docs/reference/api/pandas.DataFrame.html)\n",
    "top_colleges = pd.read_csv('./data/raw/ForbesAmericasTopColleges2019.csv')\n",
    "\n",
    "top_colleges.head()\n"
   ]
  },
  {
   "cell_type": "code",
   "execution_count": 22,
   "metadata": {},
   "outputs": [],
   "source": [
    "# grab total annual cost by `subsetting`\n",
    "total_annual_cost = top_colleges['Total Annual Cost']\n",
    "# grab alumni salary by `subsetting`\n",
    "alumni_salary = top_colleges['Alumni Salary']"
   ]
  },
  {
   "cell_type": "code",
   "execution_count": 23,
   "metadata": {},
   "outputs": [
    {
     "data": {
      "text/plain": [
       "0    2.109195\n",
       "1    2.101029\n",
       "2    1.939964\n",
       "3    2.301646\n",
       "4    2.107332\n",
       "dtype: float64"
      ]
     },
     "execution_count": 23,
     "metadata": {},
     "output_type": "execute_result"
    }
   ],
   "source": [
    "\n",
    "# get ratio of alumbi salary to total annual cost\n",
    "salary_cost_ratio = top_colleges['Alumni Salary']/top_colleges['Total Annual Cost']\n",
    "\n",
    "salary_cost_ratio.head()"
   ]
  },
  {
   "cell_type": "code",
   "execution_count": 24,
   "metadata": {},
   "outputs": [
    {
     "data": {
      "image/png": "[encoded data removed]",
      "text/plain": [
       "<Figure size 432x288 with 1 Axes>"
      ]
     },
     "metadata": {
      "needs_background": "light"
     },
     "output_type": "display_data"
    }
   ],
   "source": [
    "import matplotlib.pyplot as plt\n",
    "\n",
    "# create histagram using plt (https://pandas.pydata.org/docs/reference/api/pandas.DataFrame.html)\n",
    "plt.hist( salary_cost_ratio, bins=90, range = [1,8]  )\n",
    "plt.show()"
   ]
  },
  {
   "cell_type": "code",
   "execution_count": 26,
   "metadata": {},
   "outputs": [
    {
     "data": {
      "image/png": "[encoded data removed]",
      "text/plain": [
       "<Figure size 432x288 with 1 Axes>"
      ]
     },
     "metadata": {
      "needs_background": "light"
     },
     "output_type": "display_data"
    }
   ],
   "source": [
    "plt.boxplot( salary_cost_ratio )\n",
    "plt.show()"
   ]
  },
  {
   "cell_type": "code",
   "execution_count": null,
   "metadata": {},
   "outputs": [],
   "source": []
  }
 ],
 "metadata": {
  "interpreter": {
   "hash": "4669cdb1d5ca2eedf0c4e374d0c8dac103ac8e43339a58fbfa9dae4a45825152"
  },
  "kernelspec": {
   "display_name": "Python 3.9.6 64-bit (system)",
   "name": "python3"
  },
  "language_info": {
   "codemirror_mode": {
    "name": "ipython",
    "version": 3
   },
   "file_extension": ".py",
   "mimetype": "text/x-python",
   "name": "python",
   "nbconvert_exporter": "python",
   "pygments_lexer": "ipython3",
   "version": "3.9.6"
  },
  "orig_nbformat": 4
 },
 "nbformat": 4,
 "nbformat_minor": 2
}
