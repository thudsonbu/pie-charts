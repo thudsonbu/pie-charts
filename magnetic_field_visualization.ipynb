{
 "cells": [
  {
   "cell_type": "code",
   "execution_count": 71,
   "id": "40fff86c",
   "metadata": {},
   "outputs": [],
   "source": [
    "import numpy as np\n",
    "import matplotlib.pyplot as plt\n",
    "import pandas as pd\n",
    "\n",
    "XIN = 6\n",
    "YIN = 4\n",
    "\n",
    "XMAX = XIN * 32\n",
    "YMAX = YIN * 32\n",
    "\n",
    "# create empty numpy 2d array with specified x and y\n",
    "cells = np.full( ( YMAX + 50, XMAX + 50 ), 0 )\n",
    "\n",
    "# hydrate cells with magnetic field data readings\n",
    "df = pd.read_csv('./data/raw/magnetic_field.csv')\n",
    "\n",
    "for row in df.iterrows():\n",
    "  vals = row[1]\n",
    "  cells[ int(vals['Y']) ][ int(vals['X']) ] = int(vals['VAL'])\n",
    "\n",
    "cells = np.flip( cells )\n",
    "cells = np.flip( cells, axis=1 )\n"
   ]
  },
  {
   "cell_type": "code",
   "execution_count": 72,
   "id": "2480ad22",
   "metadata": {},
   "outputs": [
    {
     "data": {
      "image/png": "[encoded data removed]",
      "text/plain": [
       "<Figure size 864x576 with 1 Axes>"
      ]
     },
     "metadata": {
      "needs_background": "light"
     },
     "output_type": "display_data"
    }
   ],
   "source": [
    "# create plot\n",
    "fig, ax = plt.subplots( figsize=( XIN*2, YIN*2 ) )\n",
    "\n",
    "# plot heatmap\n",
    "im = ax.imshow( cells )\n",
    "\n",
    "# title\n",
    "ax.set_title(\"Electromagnetic Field Map\")\n",
    "\n",
    "# axis\n",
    "x = np.arange( 0, XMAX + 1, 32 )\n",
    "y = np.arange( 0, YMAX + 1, 32 )\n",
    "\n",
    "xlab = [ '0', '1', '2', '3', '4', '5', '6' ]\n",
    "ylab = [ '4', '3', '2', '1', '0' ]\n",
    "\n",
    "ax.set_xticks( x, labels=xlab )\n",
    "ax.set_yticks( y, labels=ylab )\n",
    "\n",
    "plt.show()"
   ]
  },
  {
   "cell_type": "code",
   "execution_count": null,
   "id": "44ef0b73",
   "metadata": {},
   "outputs": [],
   "source": []
  },
  {
   "cell_type": "code",
   "execution_count": null,
   "id": "2c5a2fda",
   "metadata": {},
   "outputs": [],
   "source": []
  }
 ],
 "metadata": {
  "kernelspec": {
   "display_name": "Python 3 (ipykernel)",
   "language": "python",
   "name": "python3"
  },
  "language_info": {
   "codemirror_mode": {
    "name": "ipython",
    "version": 3
   },
   "file_extension": ".py",
   "mimetype": "text/x-python",
   "name": "python",
   "nbconvert_exporter": "python",
   "pygments_lexer": "ipython3",
   "version": "3.9.6"
  }
 },
 "nbformat": 4,
 "nbformat_minor": 5
}
